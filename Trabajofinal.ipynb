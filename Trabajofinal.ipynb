{
 "cells": [
  {
   "attachments": {},
   "cell_type": "markdown",
   "metadata": {},
   "source": [
    "# <span style=\"color:green\"> ANÁLISIS DE SENTIMIENTO CON SPOTIFY\n"
   ]
  },
  {
   "attachments": {},
   "cell_type": "markdown",
   "metadata": {},
   "source": [
    "![](https://static.vecteezy.com/system/resources/previews/022/101/104/original/spotify-logo-transparent-free-png.png)\n"
   ]
  },
  {
   "cell_type": "code",
   "execution_count": 1,
   "metadata": {},
   "outputs": [],
   "source": [
    "import spotipy\n",
    "import requests\n",
    "import pylast\n",
    "import spotipy.util as util"
   ]
  },
  {
   "cell_type": "code",
   "execution_count": 2,
   "metadata": {},
   "outputs": [],
   "source": [
    "username1 = 'Luis Diaz'\n",
    "scope = 'playlist-modify-public'  # Define el alcance de acceso necesario\n",
    "client_id = 'e609138354904cda84e45b105b839630'\n",
    "client_secret = '1986a5db5a4b4da2869f160df2a4f2fc'\n",
    "redirect_uri = 'https://open.spotify.com/artist/7oPftvlwr6VrsViSDV7fJY'\n"
   ]
  }
 ],
 "metadata": {
  "kernelspec": {
   "display_name": "Python 3",
   "language": "python",
   "name": "python3"
  },
  "language_info": {
   "codemirror_mode": {
    "name": "ipython",
    "version": 3
   },
   "file_extension": ".py",
   "mimetype": "text/x-python",
   "name": "python",
   "nbconvert_exporter": "python",
   "pygments_lexer": "ipython3",
   "version": "3.11.2"
  },
  "orig_nbformat": 4
 },
 "nbformat": 4,
 "nbformat_minor": 2
}
