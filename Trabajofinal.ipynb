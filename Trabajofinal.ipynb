{
 "cells": [
  {
   "attachments": {},
   "cell_type": "markdown",
   "metadata": {},
   "source": [
    "# <span style=\"color:green\"> ANÁLISIS DE SENTIMIENTO CON SPOTIFY\n"
   ]
  },
  {
   "attachments": {},
   "cell_type": "markdown",
   "metadata": {},
   "source": [
    "![](https://static.vecteezy.com/system/resources/previews/022/101/104/original/spotify-logo-transparent-free-png.png)\n"
   ]
  },
  {
   "cell_type": "code",
   "execution_count": 9,
   "metadata": {},
   "outputs": [],
   "source": [
    "import spotipy\n",
    "import requests\n",
    "import pylast\n",
    "import spotipy.util as util\n",
    "import matplotlib.pyplot as plt"
   ]
  },
  {
   "attachments": {},
   "cell_type": "markdown",
   "metadata": {},
   "source": [
    "## <span style=\"color:brown\"> AGREGAMOS LOS DATOS DEL APY"
   ]
  },
  {
   "cell_type": "code",
   "execution_count": 2,
   "metadata": {},
   "outputs": [],
   "source": [
    "username1 = 'Luis Diaz'\n",
    "scope = 'playlist-modify-public'  # Define el alcance de acceso necesario\n",
    "client_id = 'e609138354904cda84e45b105b839630'\n",
    "client_secret = '1986a5db5a4b4da2869f160df2a4f2fc'\n",
    "redirect_uri = 'https://open.spotify.com/artist/7oPftvlwr6VrsViSDV7fJY'\n"
   ]
  },
  {
   "attachments": {},
   "cell_type": "markdown",
   "metadata": {},
   "source": [
    "## <span style=\"color:brown\"> CREAMOS UNA FUNCIÓN PARA LA CREACIÓN DEL TOKEN"
   ]
  },
  {
   "cell_type": "code",
   "execution_count": 3,
   "metadata": {},
   "outputs": [],
   "source": [
    "# creando un token de manera automatica\n",
    "import requests #importamos los paquetes \n",
    "import base64   #Este paquete nos ayuda a codigicar \n",
    "def obtener_token(client_id,client_secret): #creamos una función, con los parámetros lient_id y client_secret\n",
    "    encoded=base64.b64encode(bytes(client_id+\":\"+client_secret,'utf-8')) #encodificamos\n",
    "    params={'grant_type':'client_credentials'} #creamos los parámetros del apy\n",
    "    header={'Authorization':'Basic '+str(encoded,'utf-8')} #creamos el header del apy\n",
    "    r=requests.post('https://accounts.spotify.com/api/token',headers=header,data=params)\n",
    "    if r.status_code!=200:\n",
    "        print('error en el request',r.json())\n",
    "        return None\n",
    "    print('token valido por {} segundos'.format(r.json()['expires_in']))\n",
    "    return r.json()['access_token']"
   ]
  },
  {
   "cell_type": "code",
   "execution_count": 4,
   "metadata": {},
   "outputs": [
    {
     "name": "stdout",
     "output_type": "stream",
     "text": [
      "token valido por 3600 segundos\n",
      "BQBnVf6_yMWs3oAjNz7jum77nsWKYmh-f9RkvCV9swtGCDK6HKyg5MihdpVw4r4k36KX1GeWhhbNs08URsQbActMJxHFka_IyFa7E5pEiOo3eZ6jw3c\n"
     ]
    }
   ],
   "source": [
    "token=obtener_token(client_id,client_secret)\n",
    "print(token)"
   ]
  },
  {
   "cell_type": "code",
   "execution_count": 5,
   "metadata": {},
   "outputs": [],
   "source": [
    "spotify = spotipy.Spotify(auth=token)"
   ]
  },
  {
   "attachments": {},
   "cell_type": "markdown",
   "metadata": {},
   "source": [
    "## <span style=\"color:brown\"> HACEMOS UNA FUNCIÓN PARA QUE NOS BRINDE LAS VALENCIAS DE LAS CANCIÓNES INGRESADAS, DE UNA MANERA AUTOMATIZADA"
   ]
  },
  {
   "cell_type": "code",
   "execution_count": 7,
   "metadata": {},
   "outputs": [],
   "source": [
    "def Creator(nombre_canción, artista): #creamos una función\n",
    "    results = spotify.search(q=f'track:{nombre_canción} artist:{artista}', type='track', limit=1) \n",
    "           #automatizamos los inputs,para que se ingrese como se pide en la documentación                                                                                    \n",
    "    if results['tracks']['items']:    #hacemos una condicional para ver si los datos ingresados existen \n",
    "        track_id = results['tracks']['items'][0]['id']\n",
    "        audio_features = spotify.audio_features(track_id)  \n",
    "        \n",
    "        if audio_features:\n",
    "            valencia = audio_features[0]['valence']\n",
    "            #print(f'La valencia de la canción \"{nombre_cancion}\" es: {valencia}')\n",
    "        else:\n",
    "            print('No se encontraron características de audio para la canción.')\n",
    "    else:\n",
    "        print('No se encontró la canción en Spotify.')\n",
    "    return valencia"
   ]
  },
  {
   "cell_type": "code",
   "execution_count": 8,
   "metadata": {},
   "outputs": [
    {
     "data": {
      "text/plain": [
       "0.135"
      ]
     },
     "execution_count": 8,
     "metadata": {},
     "output_type": "execute_result"
    }
   ],
   "source": [
    "Creator('Us and Them', 'Pink floyd')"
   ]
  },
  {
   "attachments": {},
   "cell_type": "markdown",
   "metadata": {},
   "source": [
    "## <span style=\"color:brown\"> HACEMOS UN INPUT AUTOMATIZADO PARA QUE NOS BRINDE LA VALENCIA"
   ]
  },
  {
   "cell_type": "code",
   "execution_count": 10,
   "metadata": {},
   "outputs": [
    {
     "name": "stdout",
     "output_type": "stream",
     "text": [
      "[0.135, 0.785]\n"
     ]
    }
   ],
   "source": [
    "n = int(input(\"Ingrese el número de canciones a analizar: \"))\n",
    "i = 0\n",
    "p = []\n",
    "v= []\n",
    "resultados=[]\n",
    "while i < n:\n",
    "    nombre_cancion = input(f\"Ingrese la {i+1} canción: \")\n",
    "    artista = input(f\"Ingrese la {i+1} banda: \")\n",
    "    p.append([nombre_cancion,artista])\n",
    "    i = i + 1\n",
    "for i in p:\n",
    "    nombre_cancion = i[0]\n",
    "    artista = i[1]\n",
    "    valencia = Creator(nombre_cancion, artista)\n",
    "    resultados.append(valencia)\n",
    "print(resultados)\n",
    "        "
   ]
  },
  {
   "attachments": {},
   "cell_type": "markdown",
   "metadata": {},
   "source": [
    "## <span style=\"color:brown\"> HACEMOS UN ANÁLISIS DE SENTIMIENTO MEDIANTE UNA GRÁFICA"
   ]
  },
  {
   "cell_type": "code",
   "execution_count": 12,
   "metadata": {},
   "outputs": [
    {
     "data": {
      "image/png": "[encoded data removed]",
      "text/plain": [
       "<Figure size 640x480 with 1 Axes>"
      ]
     },
     "metadata": {},
     "output_type": "display_data"
    }
   ],
   "source": [
    "canciones = ['Canción 1', 'Canción 2']\n",
    "valencias = resultados\n",
    "\n",
    "# Configurar el gráfico\n",
    "plt.bar(canciones, valencias, color='blue')\n",
    "\n",
    "# Agregar etiquetas y título\n",
    "plt.xlabel('Canciones')\n",
    "plt.ylabel('Valencia')\n",
    "plt.title('Análisis de Sentimiento de las Canciones')\n",
    "\n",
    "# Mostrar el gráfico\n",
    "plt.show()"
   ]
  }
 ],
 "metadata": {
  "kernelspec": {
   "display_name": "Python 3",
   "language": "python",
   "name": "python3"
  },
  "language_info": {
   "codemirror_mode": {
    "name": "ipython",
    "version": 3
   },
   "file_extension": ".py",
   "mimetype": "text/x-python",
   "name": "python",
   "nbconvert_exporter": "python",
   "pygments_lexer": "ipython3",
   "version": "3.11.2"
  },
  "orig_nbformat": 4
 },
 "nbformat": 4,
 "nbformat_minor": 2
}
